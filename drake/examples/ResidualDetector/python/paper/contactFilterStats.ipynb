{
 "cells": [
  {
   "cell_type": "code",
   "execution_count": 1,
   "metadata": {
    "collapsed": true
   },
   "outputs": [],
   "source": [
    "import sys\n",
    "import lcm\n",
    "import numpy as np\n",
    "import matplotlib as plt\n",
    "import matplotlib.pyplot as plt\n",
    "%matplotlib inline"
   ]
  },
  {
   "cell_type": "code",
   "execution_count": 2,
   "metadata": {
    "collapsed": false
   },
   "outputs": [],
   "source": [
    "## processing utilities\n",
    "def processMultipleContactsMsg(msg):\n",
    "    d = dict()\n",
    "    d['msg'] = msg\n",
    "    linksInMsg = []\n",
    "    linksWithForce = []\n",
    "    d['linksInMsg'] = linksInMsg\n",
    "    d['linksWithForce'] = linksWithForce\n",
    "    \n",
    "    for idx in xrange(0,msg.num_contacts):\n",
    "        singleMsg = msg.contacts[idx]\n",
    "        linkName = str(singleMsg.body_name)\n",
    "        linksInMsg.append(linkName)\n",
    "        d[linkName] = singleMsg\n",
    "        force = np.array(singleMsg.contact_force)\n",
    "        forceMagnitude = np.linalg.norm(force)\n",
    "        if forceMagnitude > 0.1:\n",
    "            linksWithForce.append(linkName)\n",
    "            \n",
    "    return d\n",
    "\n",
    "\n",
    "def processActualAndEstimatedMsg(msg):\n",
    "    d = dict()\n",
    "    d['actual'] = processMultipleContactsMsg(msg.actual_contact_location)\n",
    "    d['estimated'] = processMultipleContactsMsg(msg.estimated_contact_location)\n",
    "    return d\n",
    "\n",
    "\n",
    "def findLinkWithClosestEstimatedContactPoint(act, est, linkName):\n",
    "    actPosition = np.array(act[linkName].contact_position_in_world)\n",
    "    minDist = 1e5 # just make it something really large for now\n",
    "    estLinkName = None\n",
    "    \n",
    "    for key in est['linksInMsg']:\n",
    "        val = est[key]\n",
    "        estPosition = np.array(val.contact_position_in_world)\n",
    "        dist = np.linalg.norm(actPosition - estPosition)\n",
    "        if (dist < minDist):\n",
    "            minDist = dist\n",
    "            estLinkName = key\n",
    "    \n",
    "    return estLinkName\n",
    "\n",
    "\n",
    "# need to be careful here, what if links with force don't match up to\n",
    "# the estimated ones, which is what happens at beginning of log\n",
    "def computeErrorFromProcessedMsg(proMsg):\n",
    "    d = dict()\n",
    "    est = proMsg['estimated']\n",
    "    act = proMsg['actual']\n",
    "    linksWithForce = act['linksWithForce']\n",
    "    \n",
    "    numLinksWithForce = len(linksWithForce)\n",
    "    estNumLinksWithForce = len(est['linksWithForce'])\n",
    "    \n",
    "    if numLinksWithForce != estNumLinksWithForce:\n",
    "        print \"estimated and actual don't match\"\n",
    "    \n",
    "    totalError = 0\n",
    "    hadLinkMiss = False\n",
    "    for linkName in linksWithForce:\n",
    "        actualPosition = np.array(act[linkName].contact_position_in_world)\n",
    "                    \n",
    "        # this is typical case\n",
    "        estLinkName = None\n",
    "        # check if this is in the list of links for estMessage\n",
    "        if linkName in est.keys():\n",
    "            estLinkName = linkName\n",
    "        else:\n",
    "            estLinkName = findLinkWithClosestEstimatedContactPoint(act, est, linkName)\n",
    "\n",
    "\n",
    "\n",
    "        estPosition = np.array(est[estLinkName].contact_position_in_world)\n",
    "\n",
    "        deltaPosition = actualPosition - estPosition\n",
    "        error = np.linalg.norm(deltaPosition)\n",
    "        d[linkName] = error\n",
    "\n",
    "        totalError += error\n",
    "        \n",
    "        \n",
    "    \n",
    "        \n",
    "    avgError = totalError/numLinksWithForce\n",
    "    d['avgError'] = avgError\n",
    "    d['totalError'] = totalError\n",
    "    d['numLinksWithForce'] = numLinksWithForce\n",
    "    \n",
    "    proMsg['errorStats'] = d\n",
    "    \n",
    "    return proMsg\n",
    "\n",
    "\n",
    "def computeErrorFromProcessedMsgTwoStepMethod(proMsg):\n",
    "    d = dict()\n",
    "    est = proMsg['estimated']\n",
    "    act = proMsg['actual']\n",
    "    linksWithForce = act['linksWithForce']\n",
    "    \n",
    "    numLinksWithForce = len(linksWithForce)\n",
    "    totalError = 0\n",
    "    hadLinkMiss = False\n",
    "    for linkName in linksWithForce:\n",
    "        actualPosition = np.array(act[linkName].contact_position_in_world)\n",
    "                    \n",
    "        # this is typical case\n",
    "        estLinkName = linkName\n",
    "        linkMsg = est[linkName]\n",
    "        missedLink = linkMsg.utime < 0\n",
    "\n",
    "        estPosition = np.array(est[linkName].contact_position_in_world)\n",
    "        deltaPosition = actualPosition - estPosition\n",
    "        error = np.linalg.norm(deltaPosition)\n",
    "        \n",
    "        if missedLink:\n",
    "            d[linkName] = -100\n",
    "            hadLinkMiss = True\n",
    "        else:\n",
    "            d[linkName] = error\n",
    "        \n",
    "        totalError += error\n",
    "        \n",
    "        \n",
    "    \n",
    "        \n",
    "    avgError = totalError/numLinksWithForce\n",
    "    d['avgError'] = avgError\n",
    "    d['totalError'] = totalError\n",
    "    d['numLinksWithForce'] = numLinksWithForce\n",
    "    d['hadLinkMiss'] = hadLinkMiss\n",
    "    if hadLinkMiss:\n",
    "        d['avgError'] = -100\n",
    "        d['totalError'] = -100\n",
    "    \n",
    "    proMsg['errorStats'] = d\n",
    "    \n",
    "    return proMsg\n",
    "\n",
    "    \n",
    "## Log loading utilities\n",
    "def loadLog(logName='test', numberOfSecondsToSkip=None):\n",
    "    \n",
    "    if numberOfSecondsToSkip is None:\n",
    "        numberOfSecondsToSkip = 3\n",
    "        \n",
    "        \n",
    "    logData = dict()\n",
    "    pathToLogs = \"/media/manuelli/DATA/logs/CASE/\"\n",
    "    logFullFilepath = pathToLogs + logName\n",
    "    log = lcm.EventLog(logFullFilepath, \"r\")\n",
    "    \n",
    "    channelsToDecode = dict()\n",
    "\n",
    "    \n",
    "    channelData = dict()\n",
    "    channelData['channelName'] = \"ACTUAL_AND_ESTIMATED_CONTACT_LOCATIONS\"\n",
    "    channelData['msgType'] = 'actual_and_estimated_contact_locations_t'\n",
    "    channelData['msgModule'] = 'drc'\n",
    "\n",
    "    channelsToDecode[channelData['channelName']] = channelData\n",
    "    \n",
    "    \n",
    "    channelData = dict()\n",
    "    channelData['channelName'] = \"TWO_STEP_ESTIMATOR\"\n",
    "    channelData['msgType'] = 'actual_and_estimated_contact_locations_t'\n",
    "    channelData['msgModule'] = 'drc'\n",
    "    channelsToDecode[channelData['channelName']] = channelData\n",
    "\n",
    "\n",
    "    listOfChannels = channelsToDecode.keys()\n",
    "\n",
    "    for name, data in channelsToDecode.iteritems():\n",
    "        module = __import__(data['msgModule'])\n",
    "        msgClass = getattr(module, data['msgType'])\n",
    "        data['times'] = []\n",
    "        data['msgs'] = []\n",
    "        data['msgClass'] = msgClass\n",
    "        \n",
    "    firstTime = None \n",
    "    # run through all events in log, pick out the ones we want\n",
    "    for event in log:\n",
    "        if event.channel in listOfChannels:\n",
    "            data = channelsToDecode[event.channel]\n",
    "            msg = data['msgClass'].decode(event.data)\n",
    "\n",
    "            # test if it has timestamp or utime\n",
    "            if hasattr(msg,'utime'):\n",
    "                time = msg.utime*1.0/1e6\n",
    "            else:\n",
    "                time = msg.timestamp*1.0/1e6\n",
    "                \n",
    "            if firstTime is None and event.channel == \"ACTUAL_AND_ESTIMATED_CONTACT_LOCATIONS\":\n",
    "                firstTime = time\n",
    "            \n",
    "                \n",
    "            if firstTime is None:\n",
    "                continue\n",
    "                \n",
    "            # remove the first bit of each log\n",
    "            if time - firstTime < numberOfSecondsToSkip:\n",
    "                continue\n",
    "\n",
    "            data['times'].append(time)\n",
    "            data['msgs'].append(msg)\n",
    "            \n",
    "    return channelsToDecode\n",
    "\n",
    "\n",
    "def processLoadedLog(logData):\n",
    "    for channelName, data in logData.iteritems():\n",
    "        data['proMsgs'] = []\n",
    "        data['times'] = np.array(data['times'])\n",
    "        \n",
    "        data['numTimes'] = np.size(data['times'])\n",
    "        \n",
    "        for idx in xrange(0,data['numTimes']):\n",
    "#             print \"idx \", idx\n",
    "            msg = data['msgs'][idx]\n",
    "            proMsg = processActualAndEstimatedMsg(msg)\n",
    "            data['proMsgs'].append(proMsg)\n",
    "            \n",
    "    return logData\n",
    "\n",
    "\n",
    "def computeErrorsOnLog(logData, channelName='ACTUAL_AND_ESTIMATED_CONTACT_LOCATIONS'):\n",
    "    d = logData[channelName]\n",
    "    for proMsg in d['proMsgs']:\n",
    "        computeErrorFromProcessedMsg(proMsg)\n",
    "        \n",
    "def computeTwoStepErrorsOnLog(logData):\n",
    "    d = logData['TWO_STEP_ESTIMATOR']\n",
    "    for proMsg in d['proMsgs']:\n",
    "        computeErrorFromProcessedMsgTwoStepMethod(proMsg)\n",
    "            \n",
    "            \n",
    "def loadAndProcessLog(logName, timeToSkip):\n",
    "    logData = loadLog(logName, numberOfSecondsToSkip=timeToSkip)\n",
    "    processLoadedLog(logData)\n",
    "    computeErrorsOnLog(logData, channelName='ACTUAL_AND_ESTIMATED_CONTACT_LOCATIONS')\n",
    "    computeTwoStepErrorsOnLog(logData)\n",
    "    return logData\n",
    "\n",
    "\n",
    "def getAverageErrorFromCPF(logData):\n",
    "    d = logData['ACTUAL_AND_ESTIMATED_CONTACT_LOCATIONS']\n",
    "    times = d['times']\n",
    "    numTimes = d['numTimes']\n",
    "\n",
    "    # make error into numpy array so we can plot it\n",
    "    avgErrorArray = []\n",
    "    for idx in xrange(0,numTimes):\n",
    "        proMsg = d['proMsgs'][idx]\n",
    "        avgErrorArray.append(proMsg['errorStats']['avgError'])\n",
    "\n",
    "    avgErrorArray = np.array(avgErrorArray)\n",
    "    \n",
    "    \n",
    "    returnData = dict()\n",
    "    returnData['avgErrorArray'] = avgErrorArray\n",
    "    returnData['avgError'] = np.mean(avgErrorArray)\n",
    "    returnData['times'] = times\n",
    "    returnData['shiftedTimes'] = times-times[0]\n",
    "    \n",
    "    return returnData\n",
    "\n",
    "\n",
    "def getAverageErrorFromTwoStep(logData):\n",
    "    d = logData['TWO_STEP_ESTIMATOR']\n",
    "    times = d['times']\n",
    "    numTimes = d['numTimes']\n",
    "    \n",
    "    # make error into numpy array so we can plot it\n",
    "    avgErrorArray = []\n",
    "    for idx in xrange(0,numTimes):\n",
    "        proMsg = d['proMsgs'][idx]\n",
    "        avgErrorArray.append(proMsg['errorStats']['avgError'])\n",
    "\n",
    "    avgErrorArray = np.array(avgErrorArray)\n",
    "    \n",
    "    linkMissIdx = np.where(avgErrorArray < 0)\n",
    "    linkHitIdx = np.where(avgError>=0)\n",
    "    \n",
    "    \n",
    "    avgErrorArrayHit = avgErrorArray[linkHitIdx]\n",
    "    \n",
    "    returnData = dict()\n",
    "    returnData['avgErrorArray'] = avgErrorArray\n",
    "    returnData['avgErrorHit'] = np.mean(avgErrorArrayHit)\n",
    "    returnData['times'] = times\n",
    "    returnData['shiftedTimes'] = times-times[0]\n",
    "    returnData['missFraction'] = np.size(linkMissIdx)*1.0/numTimes\n",
    "    returnData['hitFraction'] = 1 - returnData['missFraction']\n",
    "    \n",
    "    \n",
    "    returnData['hitTimes'] = returnData['shiftedTimes'][linkHitIdx]\n",
    "    returnData['missTimes'] = returnData['shiftedTimes'][linkMissIdx]\n",
    "    \n",
    "    return returnData\n",
    "    \n",
    "    \n",
    "# no noise logs\n",
    "def getErrorDataFromLogs(logNamePrefix=\"singleContactForces_single_\", logNameSuffix = \"_no_noise\", numRuns=7, runList=None,\n",
    "                        timeToSkip=None):\n",
    "#     logNamePrefix = \"singleContactForces_single_\"\n",
    "#     logNameSuffix = \"_no_noise\"\n",
    "    cpfError = dict()\n",
    "    twoStepError = dict()\n",
    "    \n",
    "    \n",
    "    if runList is None:\n",
    "        runList = range(1,numRuns + 1)\n",
    "    \n",
    "    for idx in runList:\n",
    "        logName = logNamePrefix + str(idx) + logNameSuffix\n",
    "        print logName\n",
    "        logData = loadAndProcessLog(logName, timeToSkip)\n",
    "        errorData = getAverageErrorFromCPF(logData)\n",
    "        cpfError[idx] = errorData\n",
    "#         twoStepError[idx] = getAverageErrorFromTwoStep(logData)\n",
    "\n",
    "    # make a bar chart with the data\n",
    "    avgError = []\n",
    "    for idx, data in cpfError.iteritems():\n",
    "        avgError.append(data['avgError'])\n",
    "        \n",
    "    returnData = dict()\n",
    "    returnData['cpfError'] = cpfError\n",
    "    \n",
    "    avgErrorArray = getAsNumpyArray(cpfError,'avgError')\n",
    "    returnData['avgError'] = np.mean(avgErrorArray)\n",
    "    returnData['stdDev'] = np.std(avgErrorArray)\n",
    "#     returnData['twoStepError'] = twoStepError\n",
    "    \n",
    "    return returnData\n",
    "\n",
    "def getAsNumpyArray(d, key):\n",
    "    l = []\n",
    "    for _, data in d.iteritems():\n",
    "        l.append(data[key])\n",
    "    \n",
    "    return np.array(l)"
   ]
  },
  {
   "cell_type": "code",
   "execution_count": 4,
   "metadata": {
    "collapsed": false
   },
   "outputs": [
    {
     "name": "stdout",
     "output_type": "stream",
     "text": [
      "doubleContactForces_double_1_no_noise\n",
      "doubleContactForces_double_2_no_noise\n",
      "doubleContactForces_double_3_no_noise\n",
      "doubleContactForces_double_4_no_noise\n",
      "tripleContactForces_triple_1_no_noise\n",
      "tripleContactForces_triple_2_no_noise\n",
      "tripleContactForces_triple_3_no_noise\n"
     ]
    }
   ],
   "source": [
    "runList = [1,2,3,4]\n",
    "err2 = dict()\n",
    "err2[0] = getErrorDataFromLogs(logNamePrefix=\"doubleContactForces_double_\", logNameSuffix = \"_no_noise\", runList=runList)\n",
    "\n",
    "err3 = dict()\n",
    "runList = [1,2,3]\n",
    "err3[0] = getErrorDataFromLogs(logNamePrefix='tripleContactForces_triple_', logNameSuffix = \"_no_noise\", runList=runList,\n",
    "                              timeToSkip=2.0)\n",
    "# err3[1] = getErrorDataFromLogs(logNamePrefix='tripleContactForces_triple_', logNameSuffix = \"_noise_01\", runList=runList)\n",
    "# err3[2] = getErrorDataFromLogs(logNamePrefix='tripleContactForces_triple_', logNameSuffix = \"_noise_02\", runList=runList)"
   ]
  },
  {
   "cell_type": "code",
   "execution_count": 6,
   "metadata": {
    "collapsed": false
   },
   "outputs": [
    {
     "name": "stdout",
     "output_type": "stream",
     "text": [
      "singleContactForces_single_1_no_noise\n",
      "singleContactForces_single_2_no_noise\n",
      "singleContactForces_single_3_no_noise\n",
      "singleContactForces_single_4_no_noise\n",
      "singleContactForces_single_5_no_noise\n",
      "singleContactForces_single_6_no_noise\n",
      "singleContactForces_single_7_no_noise\n",
      "singleContactForces_single_1_noise_01\n",
      "singleContactForces_single_2_noise_01\n",
      "singleContactForces_single_3_noise_01\n",
      "singleContactForces_single_4_noise_01\n",
      "singleContactForces_single_5_noise_01\n",
      "singleContactForces_single_6_noise_01\n",
      "singleContactForces_single_7_noise_01\n",
      "singleContactForces_single_1_noise_02\n",
      "singleContactForces_single_2_noise_02\n",
      "singleContactForces_single_3_noise_02\n",
      "singleContactForces_single_4_noise_02\n",
      "singleContactForces_single_5_noise_02\n",
      "singleContactForces_single_6_noise_02\n",
      "singleContactForces_single_7_noise_02\n"
     ]
    }
   ],
   "source": [
    "err1 = dict()\n",
    "runList = [1,2,3,4,5,6,7]\n",
    "err1[0] = getErrorDataFromLogs(logNamePrefix=\"singleContactForces_single_\", logNameSuffix = \"_no_noise\", numRuns=7, runList=runList)\n",
    "err1[1] = getErrorDataFromLogs(logNamePrefix=\"singleContactForces_single_\", logNameSuffix = \"_noise_01\", numRuns=7, runList=runList)\n",
    "err1[2] = getErrorDataFromLogs(logNamePrefix=\"singleContactForces_single_\", logNameSuffix = \"_noise_02\", numRuns=7, runList=runList)"
   ]
  },
  {
   "cell_type": "code",
   "execution_count": 7,
   "metadata": {
    "collapsed": false
   },
   "outputs": [
    {
     "name": "stdout",
     "output_type": "stream",
     "text": [
      "doubleContactForces_double_1_no_noise\n",
      "doubleContactForces_double_2_no_noise\n",
      "doubleContactForces_double_3_no_noise\n",
      "doubleContactForces_double_4_no_noise\n",
      "doubleContactForces_double_1_noise_01\n",
      "doubleContactForces_double_2_noise_01\n",
      "doubleContactForces_double_3_noise_01\n",
      "doubleContactForces_double_4_noise_01\n",
      "doubleContactForces_double_1_noise_02\n",
      "doubleContactForces_double_2_noise_02\n",
      "doubleContactForces_double_3_noise_02\n",
      "doubleContactForces_double_4_noise_02\n"
     ]
    }
   ],
   "source": [
    "err2 = dict()\n",
    "runList = [1,2,3,4]\n",
    "err2[0] = getErrorDataFromLogs(logNamePrefix=\"doubleContactForces_double_\", logNameSuffix = \"_no_noise\", runList=runList)\n",
    "err2[1] = getErrorDataFromLogs(logNamePrefix=\"doubleContactForces_double_\", logNameSuffix = \"_noise_01\", runList=runList)\n",
    "err2[2] = getErrorDataFromLogs(logNamePrefix=\"doubleContactForces_double_\", logNameSuffix = \"_noise_02\", runList=runList)"
   ]
  },
  {
   "cell_type": "code",
   "execution_count": 17,
   "metadata": {
    "collapsed": false
   },
   "outputs": [
    {
     "name": "stdout",
     "output_type": "stream",
     "text": [
      "tripleContactForces_triple_1_no_noise\n",
      "tripleContactForces_triple_2_no_noise\n",
      "tripleContactForces_triple_3_no_noise\n",
      "tripleContactForces_triple_1_noise_01\n",
      "tripleContactForces_triple_2_noise_01\n",
      "tripleContactForces_triple_3_noise_01\n",
      "tripleContactForces_triple_1_noise_02\n",
      "tripleContactForces_triple_2_noise_02\n",
      "tripleContactForces_triple_3_noise_02\n"
     ]
    }
   ],
   "source": [
    "err3 = dict()\n",
    "runList = [1,2,3]\n",
    "err3[0] = getErrorDataFromLogs(logNamePrefix='tripleContactForces_triple_', logNameSuffix = \"_no_noise\", runList=runList)\n",
    "err3[1] = getErrorDataFromLogs(logNamePrefix='tripleContactForces_triple_', logNameSuffix = \"_noise_01\", runList=runList)\n",
    "err3[2] = getErrorDataFromLogs(logNamePrefix='tripleContactForces_triple_', logNameSuffix = \"_noise_02\", runList=runList)"
   ]
  },
  {
   "cell_type": "code",
   "execution_count": 18,
   "metadata": {
    "collapsed": false
   },
   "outputs": [
    {
     "name": "stdout",
     "output_type": "stream",
     "text": [
      "[ 0.41666667  1.41666667  2.41666667]\n"
     ]
    },
    {
     "data": {
      "text/plain": [
       "[<matplotlib.text.Text at 0x7f20c04cc350>,\n",
       " <matplotlib.text.Text at 0x7f20c0205550>,\n",
       " <matplotlib.text.Text at 0x7f20c0105490>]"
      ]
     },
     "execution_count": 18,
     "metadata": {},
     "output_type": "execute_result"
    },
    {
     "data": {
      "image/png": "[encoded data removed]",
      "text/plain": [
       "<matplotlib.figure.Figure at 0x7f20c0625b10>"
      ]
     },
     "metadata": {},
     "output_type": "display_data"
    }
   ],
   "source": [
    "# do the plotting\n",
    "width = 0.5/3\n",
    "N = 3\n",
    "\n",
    "err = [err1,err2,err3]\n",
    "fig, ax = plt.subplots()\n",
    "\n",
    "for idx in xrange(0,N):\n",
    "    errDict = err[idx]\n",
    "    rects1 = ax.bar(idx, errDict[0]['avgError'], width, color='g')\n",
    "    rects2 = ax.bar(idx + width, errDict[1]['avgError'], width, color='b')\n",
    "    rects3 = ax.bar(idx + 2 * width, errDict[2]['avgError'], width, color='r')\n",
    "\n",
    "    \n",
    "ax.legend((rects1[0],rects2[0],rects3[0]), ('noise 0', 'noise 0.1', 'noise 0.2'), loc='upper center')\n",
    "\n",
    "# ind = np.arange(0,N)\n",
    "# errorDicts = [errorData, errorData_01, errorData_02]\n",
    "# fig, ax = plt.subplots()\n",
    "\n",
    "# numContacts = 1\n",
    "# rects1 = ax.bar(numContacts, errorDicts[idx], width, color='r')\n",
    "\n",
    "# rects1 = ax.bar(ind, errorDicts, width, color='r')\n",
    "# rects2 = ax.bar(ind + width, tsAvgError*100, width, color='g')\n",
    "# rects2 = ax.bar(ind + 2*width, tsAvgError*100, width, color='b')\n",
    "\n",
    "\n",
    "ax.set_ylabel('average localization accuracy (cm)')\n",
    "ax.set_xlabel('num contacts')\n",
    "labelTicks = np.array([0,1,2]) + width*3/2.0\n",
    "print labelTicks + width\n",
    "ax.set_xticks(labelTicks)\n",
    "ax.set_xticklabels(('1','2', '3'))"
   ]
  },
  {
   "cell_type": "code",
   "execution_count": 19,
   "metadata": {
    "collapsed": false
   },
   "outputs": [
    {
     "name": "stdout",
     "output_type": "stream",
     "text": [
      "[0.0080984422681686114, 0.010398878610696528, 0.010594986261212287]\n",
      "[ 0.41666667  1.41666667  2.41666667]\n"
     ]
    },
    {
     "data": {
      "text/plain": [
       "<matplotlib.legend.Legend at 0x7f20c002b110>"
      ]
     },
     "execution_count": 19,
     "metadata": {},
     "output_type": "execute_result"
    },
    {
     "data": {
      "text/plain": [
       "<matplotlib.figure.Figure at 0x7f20c05e2490>"
      ]
     },
     "metadata": {},
     "output_type": "display_data"
    },
    {
     "data": {
      "text/plain": [
       "<matplotlib.figure.Figure at 0x7f20c0625850>"
      ]
     },
     "metadata": {},
     "output_type": "display_data"
    },
    {
     "data": {
      "image/png": "[encoded data removed]",
      "text/plain": [
       "<matplotlib.figure.Figure at 0x7f20c01052d0>"
      ]
     },
     "metadata": {},
     "output_type": "display_data"
    }
   ],
   "source": [
    "# do the plotting\n",
    "width = 0.5/3\n",
    "N = 3\n",
    "\n",
    "plt.clf()\n",
    "plt.figure()\n",
    "err = [err1,err2,err3]\n",
    "fig, ax = plt.subplots()\n",
    "\n",
    "# for idx in xrange(0,N):\n",
    "#     errDict = err[idx]\n",
    "#     rects1 = ax.bar(idx, errDict[0]['avgError'], width, color='g')\n",
    "#     rects2 = ax.bar(idx + width, errDict[1]['avgError'], width, color='b')\n",
    "#     rects3 = ax.bar(idx + 2 * width, errDict[2]['avgError'], width, color='r')\n",
    "\n",
    "    \n",
    "e = dict()\n",
    "sd = dict()\n",
    "\n",
    "for varIdx in xrange(0,3):\n",
    "    e[varIdx] = []\n",
    "    sd[varIdx] = []\n",
    "    for idx in xrange(0,3):\n",
    "        errDict = err[idx]\n",
    "        e[varIdx].append(errDict[varIdx]['avgError'])\n",
    "        sd[varIdx].append(errDict[varIdx]['stdDev'])\n",
    "    \n",
    "    \n",
    "print e[0]\n",
    "# ax.legend((rects1[0],rects2[0],rects3[0]), ('noise 0', 'noise 0.1', 'noise 0.2'), loc='upper center')\n",
    "\n",
    "# # ind = np.arange(0,N)\n",
    "# # errorDicts = [errorData, errorData_01, errorData_02]\n",
    "# # fig, ax = plt.subplots()\n",
    "\n",
    "# # numContacts = 1\n",
    "# # rects1 = ax.bar(numContacts, errorDicts[idx], width, color='r')\n",
    "\n",
    "# # rects1 = ax.bar(ind, errorDicts, width, color='r')\n",
    "# # rects2 = ax.bar(ind + width, tsAvgError*100, width, color='g')\n",
    "# # rects2 = ax.bar(ind + 2*width, tsAvgError*100, width, color='b')\n",
    "ind = np.arange(0,3)\n",
    "colors = ['g','b','y']\n",
    "rects = []\n",
    "for idx in xrange(0,3):\n",
    "    rects.append(ax.bar(ind + width*idx, e[idx], width,color=colors[idx],yerr=sd[idx])[0])\n",
    "\n",
    "ax.set_ylabel('average localization accuracy (cm)')\n",
    "ax.set_xlabel('num contacts')\n",
    "labelTicks = np.array([0,1,2]) + width*3/2.0\n",
    "print labelTicks + width\n",
    "ax.set_xticks(labelTicks)\n",
    "ax.set_xticklabels(('1','2', '3'))\n",
    "ax.legend(rects, ('noise 0', 'noise 0.1', 'noise 0.2'), loc='upper center')\n"
   ]
  },
  {
   "cell_type": "code",
   "execution_count": null,
   "metadata": {
    "collapsed": false
   },
   "outputs": [],
   "source": [
    "err1[0]['stdDev']"
   ]
  },
  {
   "cell_type": "code",
   "execution_count": null,
   "metadata": {
    "collapsed": false
   },
   "outputs": [],
   "source": [
    "# make bar plot\n",
    "width = 0.5/3\n",
    "N = 1\n",
    "ind = np.arange(0,N)\n",
    "errorDicts = [errorData, errorData_01, errorData_02]\n",
    "fig, ax = plt.subplots()\n",
    "\n",
    "numContacts = 1\n",
    "\n",
    "rects1 = ax.bar(ind, errorDicts, width, color='r')\n",
    "rects2 = ax.bar(ind + width, tsAvgError*100, width, color='g')\n",
    "rects2 = ax.bar(ind + 2*width, tsAvgError*100, width, color='b')\n",
    "\n",
    "\n",
    "ax.set_ylabel('average localization accuracy (cm)')\n",
    "ax.set_xlabel('num contacts')\n",
    "ax.set_xticks(ind + width)\n",
    "# ax.set_xticklabels(('1','2', '3'))"
   ]
  },
  {
   "cell_type": "code",
   "execution_count": 16,
   "metadata": {
    "collapsed": false
   },
   "outputs": [
    {
     "name": "stdout",
     "output_type": "stream",
     "text": [
      "[ 0.01527454  0.01564694  0.14191326]\n"
     ]
    }
   ],
   "source": [
    "numContacts = 3\n",
    "noiseLevel = 1\n",
    "a = getAsNumpyArray(err[numContacts-1][noiseLevel]['cpfError'],'avgError')\n",
    "print a"
   ]
  },
  {
   "cell_type": "code",
   "execution_count": 25,
   "metadata": {
    "collapsed": false
   },
   "outputs": [
    {
     "name": "stdout",
     "output_type": "stream",
     "text": [
      "1 contact 0.161\n"
     ]
    }
   ],
   "source": [
    "0.123+0.272\n",
    "0.067+0.177\n",
    "print \"1 contact\", 0.115+0.046"
   ]
  },
  {
   "cell_type": "code",
   "execution_count": 29,
   "metadata": {
    "collapsed": false
   },
   "outputs": [
    {
     "name": "stdout",
     "output_type": "stream",
     "text": [
      "0.126582278481\n",
      "0.102459016393\n",
      "0.111801242236\n"
     ]
    }
   ],
   "source": [
    "print 50/395.0\n",
    "print 25/244.0\n",
    "print 18/161.0"
   ]
  },
  {
   "cell_type": "code",
   "execution_count": 32,
   "metadata": {
    "collapsed": false
   },
   "outputs": [
    {
     "data": {
      "text/plain": [
       "833"
      ]
     },
     "execution_count": 32,
     "metadata": {},
     "output_type": "execute_result"
    }
   ],
   "source": [
    "50**3/(50*3)"
   ]
  },
  {
   "cell_type": "code",
   "execution_count": null,
   "metadata": {
    "collapsed": true
   },
   "outputs": [],
   "source": []
  }
 ],
 "metadata": {
  "kernelspec": {
   "display_name": "Python 2",
   "language": "python",
   "name": "python2"
  },
  "language_info": {
   "codemirror_mode": {
    "name": "ipython",
    "version": 2
   },
   "file_extension": ".py",
   "mimetype": "text/x-python",
   "name": "python",
   "nbconvert_exporter": "python",
   "pygments_lexer": "ipython2",
   "version": "2.7.6"
  }
 },
 "nbformat": 4,
 "nbformat_minor": 0
}
